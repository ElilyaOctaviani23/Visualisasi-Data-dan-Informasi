# Elilya Octaviani
# 122450009
# RC

## Tentukan data yang akan anda gunakan dalam visualisasi
Dataset = https://www.kaggle.com/datasets/prokshitha/home-value-insights?resource=download

## Berdasarkan data yang anda pilih tentukan tujuan, user, fungsi dan tone (jika ada) yang sesuai dengan visualisasi yang akan anda buat

- Tujuan : Mengidentifikasi negara negara yang sudah masuk ke dalam The world’s largest banks by assets, 2024 [S&P Global](https://www.spglobal.com/marketintelligence/en/news-insights/research/the-worlds-largest-banks-by-assets-2024)
- User : Large Range of customers (Analis keuangan, Investor, dan Peneliti)
- Fungsi : Visualisasi ini berfungsi memberikan informasi kuantitatif tentang jumlah bank di berbagai negara yang telah masuk sebagai Bank-bank terbesar di dunia berdasarkan aset dari S&P Global
- Tone : -

## Buatlah visualisasi dengan mengunakan library python seperti matplotlib, seaborn atau tools lain
- Visualisasinya
  ![Visualisasi](https://github.com/Hash-sd/Project-Data-and-Information-Visualization/blob/main/download.png)


- Python
     ```py
    import pandas as pd
    import seaborn as sns
    import matplotlib.pyplot as plt
    
    data = pd.read_excel("/content/top100banks2024.xlsx")
    
    bank_per_negara = data['HQ_Location'].value_counts().sort_values(ascending=False)
    
    plt.figure(figsize=(15, 8))  
    
    sns.barplot(x=bank_per_negara.index, y=bank_per_negara.values, palette='viridis')
    plt.title('Jumlah Bank menurut Negara (HQ Location)')
    plt.xlabel('Negara (HQ Location)')
    plt.ylabel('Jumlah Bank')
    
    plt.xticks(rotation=45, ha='right')  
    
    for i, v in enumerate(bank_per_negara.values):
        plt.text(i, v+1, str(v), ha='center')
    
    plt.show()
